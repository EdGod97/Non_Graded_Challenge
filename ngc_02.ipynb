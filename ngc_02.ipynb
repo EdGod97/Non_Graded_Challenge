{
 "cells": [
  {
   "cell_type": "code",
   "execution_count": 14,
   "metadata": {},
   "outputs": [
    {
     "name": "stdout",
     "output_type": "stream",
     "text": [
      "The number of word: 8\n",
      "Number of words: 8\n"
     ]
    }
   ],
   "source": [
    "\"\"\" \n",
    "Task 1\n",
    "Create a function that count the number of word in a sentence. Instruction:\n",
    "1.Create function called `number_of_word`\n",
    "2.This function takes 1 input, `sentence`.\n",
    "3.Inside this function, you can utilize `.split()` method to split the sentence into list of word(s)\n",
    "4.Also, `len()` function to count the element inside a list\n",
    "5.Return the number of word from the sentence.\n",
    "\n",
    "Example:\n",
    "-Input: number_of_word(sentence = ’Hello World!’)\n",
    "-Output: 2\n",
    "\n",
    "-Input: number_of_word(sentence = ’Once Upon a Time in a faraway land’)\n",
    "-Output: 8\n",
    "\"\"\"\n",
    "\n",
    "number_of_word = 'Hello World'\n",
    "number_of_word = 'Once Upon a Time in a faraway land'\n",
    "sentence = len(number_of_word.split())\n",
    "print(f'The number of word: {sentence}')\n",
    "\n",
    "one = 'Hello World'\n",
    "two = 'Once Upon a Time in a faraway land'\n",
    "\n",
    "def number_of_word(sentence):\n",
    "    num = len(sentence.split())\n",
    "    return num\n",
    "\n",
    "print(f'Number of words: {number_of_word(two)}')"
   ]
  },
  {
   "cell_type": "code",
   "execution_count": 30,
   "metadata": {},
   "outputs": [
    {
     "name": "stdout",
     "output_type": "stream",
     "text": [
      "[5, 10, 15, 20]\n",
      "[10, 20, 30, 40, 50]\n"
     ]
    }
   ],
   "source": [
    "\"\"\" \n",
    "Task 2 \n",
    "\n",
    "Find MultipleCreate a function that will get list of number(s) from a certain range that multiples of given number.\n",
    "\n",
    "Instruction:\n",
    "1.Create function called `find_multiples`.\n",
    "2.This function takes 3 input: `start_range`, `end_range`, and `multiple`.\n",
    "3.From every number within the given range, check if that number is the mutliples of `multiple`.\n",
    "4.Return list of the possible multiple number(s).\n",
    "\"\"\"\n",
    "\n",
    "def find_multiple(start_range, end_range, multiple):\n",
    "    multiple_list = []\n",
    "\n",
    "    for number in range(start_range,end_range + 1):\n",
    "        if number % multiple == 0 :\n",
    "            # result = number * multiple\n",
    "            multiple_list.append(number)\n",
    "            \n",
    "    return multiple_list\n",
    "    \n",
    "# baris bilangan\n",
    "\n",
    "print(find_multiple(1, 20, 5))\n",
    "print(find_multiple(1, 50, 10))"
   ]
  },
  {
   "cell_type": "code",
   "execution_count": 51,
   "metadata": {},
   "outputs": [
    {
     "name": "stdout",
     "output_type": "stream",
     "text": [
      "{'Albert': 'A', 'Dwi': 'B', 'Syahdan': 'D', 'Veronica': 'B'}\n",
      "{'Adam': 2.5, 'Faiz': 4}\n",
      "Invalid conversion type. Please choose 'gpa' or ' letter grade'.\n"
     ]
    }
   ],
   "source": [
    "\"\"\" \n",
    "Task 3 - Grade Converter\n",
    "\n",
    "Create a function that will convert student’s grade to GPA.\n",
    "Instruction:\n",
    "1.Create function called `Grade_Converter`.\n",
    "2.This function takes input: `convert_to` and n-paired of student(s) name with its respective score.\n",
    "3.Input argument for `convert_to` is either `letter_grade` or `gpa`.\n",
    "4.You can utilize **kwargs input argument to generate n-length paired of student(s) name with its respective score (Dictionary).\n",
    "5.This function will return dictionary of student’s name along with converted Letter Grade or GPA, depending on user input in `convert_to` parameter.\n",
    "\"\"\"\n",
    "\"\"\"\n",
    "Create a function that will convert student’s grade to GPA.\n",
    "Example:\n",
    "-Input: Grade_Converter(convert_to='gpa', Adam=62, Faiz=91)\n",
    "-Output: {'Adam': 2.5, 'Faiz': 4}\n",
    "-Input: Grade_Converter(convert_to='letter_grade', Albert=90, Dwi=82, Syahdan=58, Veronica=84)\n",
    "-Output: {'Albert': 'A', 'Dwi': 'B', 'Syahdan': 'D','Veronica': 'B'}\n",
    "\"\"\"\n",
    "\n",
    "def grade_converter(convert_to, **student_grades):\n",
    "    converted_grade = {}\n",
    "\n",
    "    for student, score in  student_grades.items():\n",
    "        if convert_to == 'gpa':\n",
    "            if 85 <= score <= 100:\n",
    "                converted_grade[student] = 4\n",
    "            elif 70 <= score <= 84.99:\n",
    "                converted_grade[student] = 3\n",
    "            elif 60 <= score <= 69.99:\n",
    "                converted_grade[student] = 2.5\n",
    "            elif 50 <= score <= 59.99:\n",
    "                converted_grade[student] = 2\n",
    "            elif 40 <= score <= 49.99:\n",
    "                converted_grade[student] = 1.5\n",
    "            else :\n",
    "                converted_grade[student] = 1\n",
    "        \n",
    "        elif convert_to == 'letter_grade':\n",
    "            if 85 <= score <= 100:\n",
    "                converted_grade[student] = 'A'\n",
    "            elif 70 <= score <= 84.99:\n",
    "                converted_grade[student] = 'B'\n",
    "            elif 60 <= score <= 69.99:\n",
    "                converted_grade[student] = 'C'\n",
    "            elif 50 <= score <= 59.99:\n",
    "                converted_grade[student] = 'D'\n",
    "            elif 40 <= score <= 49.99:\n",
    "                converted_grade[student] = 'E'\n",
    "            else :\n",
    "                converted_grade[student] = 'F'\n",
    "        else :\n",
    "            return \"Invalid conversion type. Please choose 'gpa' or ' letter grade'.\"\n",
    "            \n",
    "    return converted_grade\n",
    "\n",
    "print(grade_converter(convert_to='letter_grade', Albert=90, Dwi=82, Syahdan=58, Veronica=84))\n",
    "print(grade_converter(convert_to='gpa', Adam=62, Faiz=91))\n",
    "print(grade_converter(convert_to='any', Lulut=99, Opi=99))"
   ]
  },
  {
   "cell_type": "code",
   "execution_count": 54,
   "metadata": {},
   "outputs": [
    {
     "name": "stdout",
     "output_type": "stream",
     "text": [
      "The Fibo squence is= 0\n",
      "The Fibo sequnce is= 4\n",
      "The Fibo sequnce is= 88\n"
     ]
    }
   ],
   "source": [
    "\"\"\" \n",
    "Task 4 - Fibonacci Sequence\n",
    "\n",
    "create a function that will return the value of n-th fibonacci number.\n",
    "Instruction:\n",
    "1.The function will take 1 input parameter, n, represents the asked number from our fibonacci sequence index.\n",
    "2.The fibonacci sequence will start with the value of 0 and 1.\n",
    "3.This function will return the n-th value from fibonacci sequence\n",
    "\"\"\"\n",
    "\n",
    "def my_function(n):\n",
    "    if n <= 0:\n",
    "        return 0\n",
    "\n",
    "    fib_sequence = [0, 1]\n",
    "    while len(fib_sequence) < n + 1:\n",
    "        next_term = fib_sequence[-1] + fib_sequence[-2]\n",
    "        fib_sequence.append(next_term)\n",
    "\n",
    "    return sum(fib_sequence[:-1])\n",
    "\n",
    "# Example usage:\n",
    "print(f'The Fibo squence is= {my_function(n=0)}')\n",
    "print(f'The Fibo sequnce is= {my_function(n=4)}')\n",
    "print(f'The Fibo sequnce is= {my_function(n=10)}')\n",
    "\n"
   ]
  },
  {
   "cell_type": "code",
   "execution_count": null,
   "metadata": {},
   "outputs": [],
   "source": []
  }
 ],
 "metadata": {
  "kernelspec": {
   "display_name": "base",
   "language": "python",
   "name": "python3"
  },
  "language_info": {
   "codemirror_mode": {
    "name": "ipython",
    "version": 3
   },
   "file_extension": ".py",
   "mimetype": "text/x-python",
   "name": "python",
   "nbconvert_exporter": "python",
   "pygments_lexer": "ipython3",
   "version": "3.11.5"
  }
 },
 "nbformat": 4,
 "nbformat_minor": 2
}
